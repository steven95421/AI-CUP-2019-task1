{
 "cells": [
  {
   "cell_type": "code",
   "execution_count": 1,
   "metadata": {},
   "outputs": [],
   "source": [
    "import torch\n",
    "import numpy as np\n",
    "import pickle\n",
    "\n",
    "def post_process(out):\n",
    "    thd = 0.7\n",
    "    thd2 = 0.6\n",
    "    thrld = np.ones((1,6))*thd\n",
    "    thrld_ten = torch.from_numpy(thrld).float()\n",
    "    \n",
    "    out = torch.FloatTensor(out)\n",
    "    pred1 = (out > thrld_ten.expand(out.size())).float()\n",
    "    max_idx = torch.argmax(out, 1, keepdim=True)\n",
    "    one_hot = torch.zeros(out.size())\n",
    "    pred2 = one_hot.scatter_(1, max_idx, 1)\n",
    "    pred = (pred1+pred2 >= 1).float()\n",
    "\n",
    "    pred = pred.tolist()\n",
    "    out = out.tolist()\n",
    "    for i in range(len(pred)):\n",
    "        tmp = sum(pred[i])\n",
    "        if tmp == 0.0:\n",
    "            assert 1 == 0, print(\"NO PREDICTION ERROR\")\n",
    "        elif tmp == 1.0:\n",
    "            idx = pred[i].index(1.0)\n",
    "            if idx == 0:\n",
    "                if out[i][1] > thd2:\n",
    "                    pred[i][1] = 1.0\n",
    "                    thd3 = out[i][1]\n",
    "                    for j in range(5):\n",
    "                        if out[i][j] > thd3:\n",
    "                            pred[i][j] = 1.0\n",
    "            elif 1 <= idx <= 3:\n",
    "                choose = idx-1 if out[i][idx-1] >= out[i][idx+1] else idx+1\n",
    "                not_choose = idx+1 if choose == idx-1 else idx-1\n",
    "                if out[i][choose] > thd2:\n",
    "                    pred[i][choose] = 1.0\n",
    "                    thd3 = out[i][choose]\n",
    "                    for j in range(5):\n",
    "                        if out[i][j] > thd3:\n",
    "                            pred[i][j] = 1.0\n",
    "                if out[i][not_choose] > thd2:\n",
    "                    pred[i][not_choose] = 1.0\n",
    "            elif idx == 4:\n",
    "                if out[i][3] > thd2:\n",
    "                    pred[i][3] = 1.0\n",
    "                    thd3 = out[i][3]\n",
    "                    for j in range(5):\n",
    "                        if out[i][j] > thd3:\n",
    "                            pred[i][j] = 1.0\n",
    "        elif tmp > 1.5 and pred[i][5] == 1.0:\n",
    "            pred[i][5] = 0.0\n",
    "            \n",
    "        thd4 = 0.62\n",
    "        if sum(pred[i]) == 2.0:\n",
    "            if sum(pred[i]*np.array([32, 16, 8, 4, 2, 1])) == 6.0:\n",
    "                if out[i][3] < thd4 or out[i][4] < thd4:\n",
    "                    pred[i][3] = 0.0\n",
    "                    pred[i][4] = 0.0\n",
    "                    if out[i][3] > out[i][4]:\n",
    "                        pred[i][3] = 1.0\n",
    "                    else:\n",
    "                        pred[i][4] = 1.0\n",
    "                        \n",
    "        thd5 = 0.59\n",
    "        if sum(pred[i]) == 1.0:\n",
    "            if pred[i][0] == 1.0 and out[i][1] > thd5:\n",
    "                pred[i][1] = 1.0\n",
    "            elif pred[i][1] == 1.0 and out[i][0] > thd5:\n",
    "                pred[i][0] = 1.0\n",
    "                    \n",
    "    return pred\n",
    "\n",
    "def vote(results, method=\"vote\"):\n",
    "    if method == \"vote\":\n",
    "        print(\"postprocessing...\")\n",
    "        preds = [result[:131166]+post_process(result[131166:]) for result in tqdm(results)]\n",
    "        print(\"voting!\")\n",
    "        thd = len(preds)//2\n",
    "        ret = torch.FloatTensor(preds)\n",
    "        print(ret.size())\n",
    "        ret = (torch.sum(ret, 0) > thd).long().tolist()\n",
    "        return ret\n",
    "    elif method == \"average\":\n",
    "        results = torch.FloatTensor(results)\n",
    "        means = torch.mean(results, 0).tolist()\n",
    "        ret = torch.LongTensor(post_process(means[:131166])).tolist() + \\\n",
    "              torch.LongTensor(means[131166:]).tolist()\n",
    "        return ret\n",
    "    else:\n",
    "        assert 1 == 0, print(\"METHOD ERROR\")"
   ]
  },
  {
   "cell_type": "code",
   "execution_count": 2,
   "metadata": {
    "scrolled": true
   },
   "outputs": [
    {
     "name": "stdout",
     "output_type": "stream",
     "text": [
      "total number of csv file: 95\n",
      "remain number of csv file: 95\n",
      "getting ids...\n",
      "getting results...\n"
     ]
    },
    {
     "data": {
      "application/vnd.jupyter.widget-view+json": {
       "model_id": "eceee42152fa4710835a4ed848936590",
       "version_major": 2,
       "version_minor": 0
      },
      "text/plain": [
       "HBox(children=(IntProgress(value=0, max=95), HTML(value='')))"
      ]
     },
     "metadata": {},
     "output_type": "display_data"
    },
    {
     "name": "stdout",
     "output_type": "stream",
     "text": [
      "\n",
      "postprocessing...\n"
     ]
    },
    {
     "data": {
      "application/vnd.jupyter.widget-view+json": {
       "model_id": "ad1077d4fb7949cabce7978eae2d790e",
       "version_major": 2,
       "version_minor": 0
      },
      "text/plain": [
       "HBox(children=(IntProgress(value=0, max=95), HTML(value='')))"
      ]
     },
     "metadata": {},
     "output_type": "display_data"
    },
    {
     "name": "stdout",
     "output_type": "stream",
     "text": [
      "\n",
      "voting!\n",
      "torch.Size([95, 262948, 6])\n",
      "writing to file...\n"
     ]
    },
    {
     "data": {
      "application/vnd.jupyter.widget-view+json": {
       "model_id": "8d994046a04d47bcb8fef23a2e7c62eb",
       "version_major": 2,
       "version_minor": 0
      },
      "text/plain": [
       "HBox(children=(IntProgress(value=0, max=262948), HTML(value='')))"
      ]
     },
     "metadata": {},
     "output_type": "display_data"
    },
    {
     "name": "stdout",
     "output_type": "stream",
     "text": [
      "\n"
     ]
    }
   ],
   "source": [
    "import pickle\n",
    "import csv\n",
    "import sys\n",
    "import os\n",
    "import random\n",
    "import numpy as np\n",
    "import multiprocessing as mp\n",
    "from tqdm.notebook import tqdm\n",
    "\n",
    "results = []\n",
    "files = []\n",
    "keeps = []\n",
    "firsts = []\n",
    "seconds = []\n",
    "col_names = []\n",
    "path = \"./results/task1/\"\n",
    "lower = 0.735\n",
    "upper = 0.75\n",
    "method = \"vote\"\n",
    "\n",
    "with open(\"seed2f1_task1.pkl\", \"rb\") as f:\n",
    "    seed2f1 = pickle.load(f)\n",
    "\n",
    "for seed in list(seed2f1.keys()):\n",
    "    if lower <= seed2f1[seed] <= upper:\n",
    "        keeps.append(seed)\n",
    "\n",
    "print(\"total number of csv file:\", len(os.listdir(path))-1)\n",
    "        \n",
    "for file in os.listdir(path):\n",
    "    if file[-4:] == \".csv\":\n",
    "        try:\n",
    "            if int(file[7:-4])%100 == 87:\n",
    "                firsts.append(file)\n",
    "            elif int(file[7:-4])%100 == 13:\n",
    "                seconds.append(file)\n",
    "        except:\n",
    "            pass\n",
    "            \n",
    "goods = ['result_22713.csv', 'result_813.csv', 'result_2913.csv', 'result_20813.csv',\n",
    "         'result_22813.csv', 'result_23813.csv', 'result_8013.csv', 'result_2613.csv',\n",
    "         'result_12113.csv', 'result_3813.csv', 'result_11013.csv', 'result_4013.csv']\n",
    "files = firsts + goods\n",
    "            \n",
    "# assert len(keeps) == len(files)\n",
    "print(\"remain number of csv file:\", len(files))\n",
    "ids = []\n",
    "\n",
    "print(\"getting ids...\")\n",
    "with open(path+files[0], newline=\"\") as f:\n",
    "    rows = csv.reader(f)\n",
    "    for i, row in enumerate(rows):\n",
    "        if i == 0:\n",
    "            col_names = row\n",
    "        else:\n",
    "            ids.append(row[0])\n",
    "    \n",
    "print(\"getting results...\")\n",
    "def get_results(file):\n",
    "    result = []\n",
    "    with open(path+file, newline=\"\") as f:\n",
    "        rows = csv.reader(f)\n",
    "        for i, row in enumerate(rows):\n",
    "            if i != 0:\n",
    "                tmp = [float(x) for x in row[1:]]\n",
    "                result.append(tmp)\n",
    "    return result\n",
    "\n",
    "with mp.Pool(processes=mp.cpu_count()) as pool:\n",
    "    results = pool.map(get_results, tqdm(files))\n",
    "    \n",
    "votes = vote(results, method)\n",
    "\n",
    "print(\"writing to file...\")\n",
    "with open(\"result_{}_{}.csv\".format(method, len(files)), \"w\", newline=\"\") as f:\n",
    "    w = csv.writer(f)\n",
    "    w.writerow(col_names)\n",
    "    for i in tqdm(range(len(results[0]))):\n",
    "        w.writerow([ids[i]]+votes[i])"
   ]
  }
 ],
 "metadata": {
  "kernelspec": {
   "display_name": "Python 3",
   "language": "python",
   "name": "python3"
  },
  "language_info": {
   "codemirror_mode": {
    "name": "ipython",
    "version": 3
   },
   "file_extension": ".py",
   "mimetype": "text/x-python",
   "name": "python",
   "nbconvert_exporter": "python",
   "pygments_lexer": "ipython3",
   "version": "3.6.6"
  }
 },
 "nbformat": 4,
 "nbformat_minor": 2
}
